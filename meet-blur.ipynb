{
 "cells": [
  {
   "cell_type": "markdown",
   "metadata": {},
   "source": [
    "# Google-Meet-Blur\n",
    "---\n"
   ]
  },
  {
   "cell_type": "markdown",
   "metadata": {},
   "source": [
    "### Import Libraries"
   ]
  },
  {
   "cell_type": "code",
   "execution_count": null,
   "metadata": {},
   "outputs": [],
   "source": [
    "import numpy as np\n",
    "from PIL import Image, ImageFilter\n",
    "from timeit import default_timer as timer\n",
    "from moviepy.editor import VideoFileClip\n",
    "import matplotlib.pyplot as plt\n",
    "import subprocess as sp\n",
    "from skimage.metrics import structural_similarity as ssim\n",
    "from skimage.metrics import mean_squared_error\n",
    "import glob"
   ]
  },
  {
   "cell_type": "markdown",
   "metadata": {},
   "source": [
    "### Import Functions"
   ]
  },
  {
   "cell_type": "code",
   "execution_count": null,
   "metadata": {},
   "outputs": [],
   "source": [
    "meet_bar = Image.open(\"meet_bar.png\")\n",
    "meet_np = np.array(meet_bar)\n",
    "\n",
    "def detect_vi(img=None):\n",
    "    global meet_bar, meet_np\n",
    "    \n",
    "    blur = False\n",
    "    half = False\n",
    "    chat = False\n",
    "    \n",
    "    wi, we, wh = 0, 960, 490 #width_ini, width_end, width_half\n",
    "    hi, he = 150, 160        #height_ini, height_end\n",
    "    thresh = 100 #30         #threshold for image difference\n",
    "    \n",
    "    whr = wh+150             #space to avoid popup of late participants (right)\n",
    "    whl = wh-250             #space to avoid popup of late participants (left)\n",
    "    \n",
    "    ch, cw = 600, 940        #chat positions\n",
    "    ci = 770                 #chat_ini \n",
    "    \n",
    "    #if(mean_squared_error(img[hi:he, wh+s:wh+s+20, :], meet_np) <= thresh): #right\n",
    "    #if(mean_squared_error(img[hi:he, wh-s:wh-s+20, :], meet_np) <= thresh): #left\n",
    "    \n",
    "    if(img[hi:he, whr:whr+20, :].mean() <= thresh): #right\n",
    "        if(img[hi:he, whl:whl+20, :].mean() <= thresh): #left\n",
    "            blur = True\n",
    "        else:\n",
    "            wi = wh\n",
    "            half, blur = True, True\n",
    "            \n",
    "    elif(img[hi:he, whl:whl+20, :].mean() <= thresh): #left\n",
    "        half, blur = True, True\n",
    "    \n",
    "    elif(img[ch:ch+20, cw:cw+20, :].mean() <= thresh): #chat right\n",
    "        chat, blur = True, True\n",
    "        \n",
    "    #else:\n",
    "        #default options (already set)\n",
    "    \n",
    "    if(blur):\n",
    "        #print('blur image')\n",
    "        \n",
    "        if(half):\n",
    "            we = wi + (470 if wi > 0 else 500) #width_end = width_half\n",
    "            \n",
    "            pil_im = Image.fromarray(img[:, wi:we, :])\n",
    "            filter_im = pil_im.filter(ImageFilter.GaussianBlur(radius = 10))\n",
    "            \n",
    "            #right half of the screen\n",
    "            if(wi > 0):\n",
    "                pil_ini = Image.fromarray(img[:, :wi, :])\n",
    "                filter_im = np.concatenate((pil_ini, filter_im), axis=1)\n",
    "                \n",
    "        elif(chat):\n",
    "            pil_im = Image.fromarray(img[:, ci:we, :])\n",
    "            filter_im = pil_im.filter(ImageFilter.GaussianBlur(radius = 10))\n",
    "            \n",
    "            pil_ini = Image.fromarray(img[:, :ci, :])\n",
    "            filter_im = np.concatenate((pil_ini, filter_im), axis=1)\n",
    "\n",
    "        else:\n",
    "            pil_im = Image.fromarray(img[:, wi:we, :])\n",
    "            filter_im = pil_im.filter(ImageFilter.GaussianBlur(radius = 10))           \n",
    "        \n",
    "        out_im = np.concatenate((filter_im , img[:, we:, :]), axis=1)\n",
    "        return out_im \n",
    "    else:\n",
    "        #print('not blur image', diff_min)\n",
    "        return img\n",
    "\n",
    "def plot_frame(frame):\n",
    "    plt.figure(figsize=(20, 12))\n",
    "    plt.imshow(frame)\n",
    "    plt.grid(False)\n",
    "    plt.show()\n",
    "    \n",
    "def cut_frame(frame):\n",
    "    return frame[150:160, 600:620,:]\n",
    "\n",
    "def calcula_diffs(frame_ini=0, frame_end=100, idx_meet_np = 0):\n",
    "    global meet_bars, meet_nps\n",
    "    \n",
    "    for i in range(frame_ini, frame_end):\n",
    "        frame = clip1.get_frame(i)\n",
    "        diff = meet_nps[idx_meet_np] - cut_frame(frame)\n",
    "        print(i, np.average(diff))"
   ]
  },
  {
   "cell_type": "markdown",
   "metadata": {},
   "source": [
    "### Test some samples"
   ]
  },
  {
   "cell_type": "code",
   "execution_count": null,
   "metadata": {
    "scrolled": false
   },
   "outputs": [],
   "source": [
    "#test some samples (visual assert)\n",
    "file_list = glob.glob(\"samples/*.png\")\n",
    "for file in file_list:\n",
    "    sample = Image.open(file)\n",
    "    s_arr = np.array(sample)\n",
    "    output = detect_vi(img=s_arr)\n",
    "    plot_frame(output)"
   ]
  },
  {
   "cell_type": "markdown",
   "metadata": {},
   "source": [
    "### Process video"
   ]
  },
  {
   "cell_type": "code",
   "execution_count": null,
   "metadata": {},
   "outputs": [],
   "source": [
    "#carrega video a ser editado\n",
    "video_file = 'aka-qwnv-evj.mp4'\n",
    "video_path = 'original/{}'.format(video_file)\n",
    "print(video_path)\n",
    "\n",
    "clip1 = VideoFileClip(video_path)\n",
    "tempo_vi = int(clip1.duration)\n",
    "print('Tempo vídeo:', tempo_vi)"
   ]
  },
  {
   "cell_type": "markdown",
   "metadata": {},
   "source": [
    "#### Show video sample"
   ]
  },
  {
   "cell_type": "code",
   "execution_count": null,
   "metadata": {
    "scrolled": false
   },
   "outputs": [],
   "source": [
    "#exibe uma amostra da tela, para identificação prévia e testes iniciais\n",
    "frame = clip1.get_frame(1500) #ajg-sadx-pga => 3, 19, 64, 83.15, 200, 2857, 5795\n",
    "output = detect_vi(img=frame)\n",
    "plot_frame(frame)\n",
    "plot_frame(output)"
   ]
  },
  {
   "cell_type": "markdown",
   "metadata": {},
   "source": [
    "#### Run"
   ]
  },
  {
   "cell_type": "code",
   "execution_count": null,
   "metadata": {
    "scrolled": false
   },
   "outputs": [],
   "source": [
    "moviepy_folder = 'temp/'\n",
    "moviepy_videofile = 'blur_{}'.format(video_file)\n",
    "moviepy_audiofile = 'blur_{}m4a'.format(video_file[:-3])\n",
    "\n",
    "print((moviepy_folder + moviepy_videofile))\n",
    "\n",
    "#gera o vídeo\n",
    "#blur_clip = clip1.subclip(1,15).fl_image(detect_vi)\n",
    "blur_clip = clip1.fl_image(detect_vi)\n",
    "blur_clip.write_videofile((moviepy_folder + moviepy_videofile), \n",
    "                          codec='libx264', \n",
    "                          audio_codec='aac', \n",
    "                          temp_audiofile=(moviepy_folder + moviepy_audiofile), \n",
    "                          remove_temp=False\n",
    ")"
   ]
  },
  {
   "cell_type": "markdown",
   "metadata": {},
   "source": [
    "#### Fix audio"
   ]
  },
  {
   "cell_type": "code",
   "execution_count": null,
   "metadata": {},
   "outputs": [],
   "source": [
    "#adiciona audio usando ffmpeg\n",
    "command = ['ffmpeg',\n",
    "           '-y', #approve output file overwite\n",
    "           '-i', str(moviepy_folder + moviepy_videofile),\n",
    "           '-i', str(moviepy_folder + moviepy_audiofile),\n",
    "           '-c:v', 'copy',\n",
    "           '-c:a', 'copy',\n",
    "           '-shortest', \n",
    "           str('{}final_{}'.format(moviepy_folder, moviepy_videofile)) ]\n",
    "\n",
    "#with open(ffmpeg_log, 'w') as f:\n",
    "process = sp.Popen(command)"
   ]
  },
  {
   "cell_type": "code",
   "execution_count": null,
   "metadata": {},
   "outputs": [],
   "source": []
  }
 ],
 "metadata": {
  "kernelspec": {
   "display_name": "Python 3",
   "language": "python",
   "name": "python3"
  },
  "language_info": {
   "codemirror_mode": {
    "name": "ipython",
    "version": 3
   },
   "file_extension": ".py",
   "mimetype": "text/x-python",
   "name": "python",
   "nbconvert_exporter": "python",
   "pygments_lexer": "ipython3",
   "version": "3.8.3"
  }
 },
 "nbformat": 4,
 "nbformat_minor": 4
}
